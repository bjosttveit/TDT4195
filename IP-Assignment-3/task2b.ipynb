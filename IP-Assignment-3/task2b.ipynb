{
 "cells": [
  {
   "cell_type": "code",
   "execution_count": 7,
   "metadata": {},
   "outputs": [],
   "source": [
    "import utils\n",
    "import numpy as np"
   ]
  },
  {
   "cell_type": "code",
   "execution_count": 59,
   "metadata": {},
   "outputs": [],
   "source": [
    "def region_growing(im: np.ndarray, seed_points: list, T: int) -> np.ndarray:\n",
    "    \"\"\"\n",
    "        A region growing algorithm that segments an image into 1 or 0 (True or False).\n",
    "        Finds candidate pixels with a Moore-neighborhood (8-connectedness). \n",
    "        Uses pixel intensity thresholding with the threshold T as the homogeneity criteria.\n",
    "        The function takes in a grayscale image and outputs a boolean image\n",
    "\n",
    "        args:\n",
    "            im: np.ndarray of shape (H, W) in the range [0, 255] (dtype=np.uint8)\n",
    "            seed_points: list of list containing seed points (row, col). Ex:\n",
    "                [[row1, col1], [row2, col2], ...]\n",
    "            T: integer value defining the threshold to used for the homogeneity criteria.\n",
    "        return:\n",
    "            (np.ndarray) of shape (H, W). dtype=np.bool\n",
    "    \"\"\"\n",
    "    ### START YOUR CODE HERE ### (You can change anything inside this block)\n",
    "    # You can also define other helper functions\n",
    "    segmented = np.zeros_like(im).astype(bool)\n",
    "    im = im.astype(float)\n",
    "    \n",
    "    #Helper function which allows lambda function to accept a tuple and unpack it (makes the functions more readable)\n",
    "    unpack = lambda f: (lambda args: f(*args))\n",
    "    \n",
    "    #Test that pixel coordinates are not outside of the image\n",
    "    is_in_bounds = unpack(lambda x, y: not (x < 0 or y < 0 or x >= im.shape[0] or y >= im.shape[1]))\n",
    "    \n",
    "    #Get (8-connected) neigbors\n",
    "    get_8_connected = unpack(lambda x, y: [(x-1, y+1),(x, y+1),(x+1, y+1),\n",
    "                                           (x-1, y  ),         (x+1, y  ),\n",
    "                                           (x-1, y-1),(x, y-1),(x+1, y-1)])\n",
    "    \n",
    "    #Check that pixel is not already explored\n",
    "    not_explored = unpack(lambda x, y: not segmented[x, y])\n",
    "    \n",
    "    for sx, sy in seed_points:\n",
    "        #Test if pixel belongs to segment by threshold\n",
    "        test_threshold = unpack(lambda x, y: np.abs(im[sx, sy] - im[x, y]) < T)\n",
    "        \n",
    "        frontier = []\n",
    "        \n",
    "        #Check if pixel is already in frontier\n",
    "        not_in_frontier = unpack(lambda x, y: (x, y) not in frontier)\n",
    "        \n",
    "        frontier.append((sx, sy))\n",
    "        \n",
    "        while len(frontier) > 0:\n",
    "            x, y = frontier.pop(0)\n",
    "            segmented[x, y] = True\n",
    "            neighbors = get_8_connected((x, y))\n",
    "            neighbors = filter(is_in_bounds, neighbors)\n",
    "            neighbors = filter(not_explored, neighbors)\n",
    "            neighbors = filter(not_in_frontier, neighbors)\n",
    "            neighbors = filter(test_threshold, neighbors)\n",
    "            frontier.extend(neighbors)\n",
    "            \n",
    "        \n",
    "    return segmented\n",
    "    ### END YOUR CODE HERE ###"
   ]
  },
  {
   "cell_type": "code",
   "execution_count": 62,
   "metadata": {},
   "outputs": [
    {
     "name": "stdout",
     "output_type": "stream",
     "text": [
      "Reading image: images\\defective-weld.png\n",
      "Saving image to: image_processed\\defective-weld-segmented.png\n"
     ]
    }
   ],
   "source": [
    "if __name__ == \"__main__\":\n",
    "    # DO NOT CHANGE\n",
    "    im = utils.read_image(\"defective-weld.png\")\n",
    "\n",
    "    seed_points = [ # (row, column)\n",
    "        [254, 138], # Seed point 1\n",
    "        [253, 296], # Seed point 2\n",
    "        [233, 436], # Seed point 3\n",
    "        [232, 417], # Seed point 4\n",
    "    ]\n",
    "    intensity_threshold = 50\n",
    "    segmented_image = region_growing(im, seed_points, intensity_threshold)\n",
    "\n",
    "    assert im.shape == segmented_image.shape, \"Expected image shape ({}) to be same as thresholded image shape ({})\".format(\n",
    "        im.shape, segmented_image.shape)\n",
    "    assert segmented_image.dtype == np.bool, \"Expected thresholded image dtype to be np.bool. Was: {}\".format(\n",
    "            segmented_image.dtype)\n",
    "\n",
    "    segmented_image = utils.to_uint8(segmented_image)\n",
    "    utils.save_im(\"defective-weld-segmented.png\", segmented_image)"
   ]
  },
  {
   "cell_type": "code",
   "execution_count": null,
   "metadata": {},
   "outputs": [],
   "source": []
  },
  {
   "cell_type": "code",
   "execution_count": null,
   "metadata": {},
   "outputs": [],
   "source": []
  }
 ],
 "metadata": {
  "kernelspec": {
   "display_name": "Python 3",
   "language": "python",
   "name": "python3"
  },
  "language_info": {
   "codemirror_mode": {
    "name": "ipython",
    "version": 3
   },
   "file_extension": ".py",
   "mimetype": "text/x-python",
   "name": "python",
   "nbconvert_exporter": "python",
   "pygments_lexer": "ipython3",
   "version": "3.8.5"
  }
 },
 "nbformat": 4,
 "nbformat_minor": 4
}
